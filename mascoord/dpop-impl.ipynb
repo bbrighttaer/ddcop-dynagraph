{
 "cells": [
  {
   "cell_type": "code",
   "execution_count": 1,
   "outputs": [],
   "source": [
    "import numpy as np"
   ],
   "metadata": {
    "collapsed": false,
    "pycharm": {
     "name": "#%%\n"
    }
   }
  },
  {
   "cell_type": "code",
   "execution_count": 2,
   "outputs": [],
   "source": [
    "class Agent:\n",
    "    def __init__(self, id, neighbors, domains, constraints):\n",
    "        self.id = id\n",
    "        self.neighbors = neighbors\n",
    "        self.domain = domains[id]\n",
    "        self.cost = {}\n",
    "        for val in self.domain:\n",
    "            self.cost[val] = np.zeros(len(neighbors) + 1)\n",
    "        for i, neighbor in enumerate(neighbors):\n",
    "            for val_i in self.domain:\n",
    "                for val_j in domains[neighbor]:\n",
    "                    self.cost[val_i][i] += constraints[self.id, neighbor](val_i, val_j)\n",
    "            self.cost[val_i][-1] = self.cost[val_i][i]\n",
    "\n",
    "    def get_best_value(self, values, projection_matrix):\n",
    "        best_val = None\n",
    "        best_cost = float('inf')\n",
    "        for val in self.domain:\n",
    "            cost = self.cost[val].dot(projection_matrix[self.id, values])\n",
    "            if cost < best_cost:\n",
    "                best_cost = cost\n",
    "                best_val = val\n",
    "        return best_val"
   ],
   "metadata": {
    "collapsed": false,
    "pycharm": {
     "name": "#%%\n"
    }
   }
  },
  {
   "cell_type": "code",
   "execution_count": 3,
   "outputs": [],
   "source": [
    "def DPOP(domains, constraints):\n",
    "    n_agents = len(domains)\n",
    "    agents = [Agent(i, [j for j in range(n_agents) if j != i], domains, constraints) for i in range(n_agents)]\n",
    "    projection_matrix = np.zeros((n_agents, len(domains[0]), n_agents + 1))\n",
    "    for i in range(n_agents):\n",
    "        for j in range(n_agents):\n",
    "            projection_matrix[i, :, j] = np.sum(np.array([agents[k].cost[val] for k, val in enumerate(domains[i])]), axis=0)\n",
    "        projection_matrix[i, :, -1] = projection_matrix[i, :, i]\n",
    "    values = np.zeros(n_agents, dtype=int)\n",
    "    for _ in range(n_agents):\n",
    "        for i in range(n_agents):\n",
    "            values[i] = agents[i].get_best_value(values, projection_matrix)\n",
    "        if np.all([agents[i].cost[values[i]].dot(projection_matrix[i, values[i], :-1]) == agents[i].cost[values[i]].dot(projection_matrix[i, values[i], -1]) for i in range(n_agents)]):\n",
    "            return values\n",
    "        for i in range(n_agents):\n",
    "            projection_matrix[i, values[i], :] = 0\n",
    "            for j in range(n_agents):\n",
    "                if j != i:\n",
    "                    projection_matrix[i, values[i], j] = np.sum(np.array([agents[k].cost[val][j] for k, val in enumerate(domains[i])]), axis=0)\n",
    "            projection_matrix[i, values[i], -1] = projection_matrix[i, values[i], i]\n",
    "    return values"
   ],
   "metadata": {
    "collapsed": false,
    "pycharm": {
     "name": "#%%\n"
    }
   }
  },
  {
   "cell_type": "code",
   "execution_count": null,
   "outputs": [],
   "source": [],
   "metadata": {
    "collapsed": false,
    "pycharm": {
     "name": "#%%\n"
    }
   }
  }
 ],
 "metadata": {
  "kernelspec": {
   "display_name": "Python 3",
   "language": "python",
   "name": "python3"
  },
  "language_info": {
   "codemirror_mode": {
    "name": "ipython",
    "version": 2
   },
   "file_extension": ".py",
   "mimetype": "text/x-python",
   "name": "python",
   "nbconvert_exporter": "python",
   "pygments_lexer": "ipython2",
   "version": "2.7.6"
  }
 },
 "nbformat": 4,
 "nbformat_minor": 0
}